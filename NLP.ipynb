{
  "nbformat": 4,
  "nbformat_minor": 0,
  "metadata": {
    "colab": {
      "provenance": []
    },
    "kernelspec": {
      "name": "python3",
      "display_name": "Python 3"
    },
    "language_info": {
      "name": "python"
    }
  },
  "cells": [
    {
      "cell_type": "code",
      "execution_count": 1,
      "metadata": {
        "colab": {
          "base_uri": "https://localhost:8080/"
        },
        "id": "agW7mM0dt3ym",
        "outputId": "94f9c89d-420e-4233-ccc4-be93455d53f6"
      },
      "outputs": [
        {
          "output_type": "stream",
          "name": "stderr",
          "text": [
            "[nltk_data] Downloading package vader_lexicon to /root/nltk_data...\n"
          ]
        },
        {
          "output_type": "execute_result",
          "data": {
            "text/plain": [
              "True"
            ]
          },
          "metadata": {},
          "execution_count": 1
        }
      ],
      "source": [
        "import nltk\n",
        "nltk.download('vader_lexicon')"
      ]
    },
    {
      "cell_type": "code",
      "source": [
        "from nltk.sentiment.vader import SentimentIntensityAnalyzer"
      ],
      "metadata": {
        "id": "faoZX57tvPDJ"
      },
      "execution_count": 5,
      "outputs": []
    },
    {
      "cell_type": "code",
      "source": [
        "sia = SentimentIntensityAnalyzer()\n"
      ],
      "metadata": {
        "id": "GHeiZHUcvp5j"
      },
      "execution_count": 8,
      "outputs": []
    },
    {
      "cell_type": "code",
      "source": [
        "text = \"I really liked the movie, the plot was very engaging!\""
      ],
      "metadata": {
        "id": "tHB2KFtZv3L8"
      },
      "execution_count": 19,
      "outputs": []
    },
    {
      "cell_type": "code",
      "source": [
        "score = sia.polarity_scores(text)"
      ],
      "metadata": {
        "id": "4u5c3r0Gv_6p"
      },
      "execution_count": 20,
      "outputs": []
    },
    {
      "cell_type": "code",
      "source": [
        "print(\"Negative: \",score[\"neg\"])\n",
        "print(\"Positive: \", score[\"pos\"])\n",
        "print(\"Neutral: \", score[\"neu\"])\n",
        "print(\"compound\", score[\"compound\"])"
      ],
      "metadata": {
        "colab": {
          "base_uri": "https://localhost:8080/"
        },
        "id": "ljH6UTLtwEK3",
        "outputId": "94d9266c-497e-498f-b346-a94f3b71f1ff"
      },
      "execution_count": 21,
      "outputs": [
        {
          "output_type": "stream",
          "name": "stdout",
          "text": [
            "Negative:  0.0\n",
            "Positive:  0.465\n",
            "Neutral:  0.535\n",
            "compound 0.7251\n"
          ]
        }
      ]
    }
  ]
}